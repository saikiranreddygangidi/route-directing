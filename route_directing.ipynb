{
 "cells": [
  {
   "cell_type": "code",
   "execution_count": 13,
   "metadata": {},
   "outputs": [
    {
     "name": "stdout",
     "output_type": "stream",
     "text": [
      "enter number of place you want:-3\n",
      "enter 1 places:-shadnagar\n",
      "enter 2 places:-hyderabad\n",
      "enter 3 places:-mahabubnagar\n"
     ]
    }
   ],
   "source": [
    "data=[]\n",
    "from bs4 import BeautifulSoup\n",
    "import requests\n",
    "\n",
    "for i in range(int(input(\"enter number of place you want:-\"))):\n",
    "    b=[];link=\"https://www.google.com/search?q=longitude of \"\n",
    "    k=input(\"enter {} places:-\".format(i+1))\n",
    "    try:\n",
    "     b.append(k)\n",
    "     page=requests.get(link+k)\n",
    "     soup =BeautifulSoup(page.content,'html.parser')\n",
    "     f=str(soup.find(\"div\",{\"class\":\"BNeawe iBp4i AP7Wnd\"}).get_text())\n",
    "     f=f.replace('° N','');f=f.replace('° E','');\n",
    "     b.extend([float(x) for x in f.split(',')])\n",
    "    except Exception as e:\n",
    "     print(\"error is\",e)\n",
    "    data.append(b)\n",
    " "
   ]
  },
  {
   "cell_type": "code",
   "execution_count": 14,
   "metadata": {},
   "outputs": [
    {
     "name": "stdout",
     "output_type": "stream",
     "text": [
      "[['shadnagar', 17.0713, 78.2059], ['hyderabad', 17.385, 78.4867], ['mahabubnagar', 16.7488, 78.0035]]\n",
      "[17.0713, 78.2059]\n"
     ]
    }
   ],
   "source": [
    "import pandas as pd\n",
    "import folium\n",
    "\n",
    "import numpy as np\n",
    "\n",
    "print(data)\n",
    "df=pd.DataFrame(data)\n",
    "#b=data[\"latitude\"]\n",
    "df.columns=[\"place\",\"long\",\"lati\"]\n",
    "coords_1 = (df[\"long\"][0], df[\"lati\"][0])\n",
    "a=df.iloc[0,1]\n",
    "b=df.iloc[0,2]\n",
    "#print(a)\n",
    "l1=list(df.loc[0,[\"long\",\"lati\"]])\n",
    "print(l1)\n"
   ]
  },
  {
   "cell_type": "code",
   "execution_count": 18,
   "metadata": {},
   "outputs": [
    {
     "name": "stdout",
     "output_type": "stream",
     "text": [
      "hyderabad\n",
      "(17.385, 78.4867)\n",
      "(17.385, 78.4867)\n",
      "3\n",
      "[(17.385, 78.4867), (17.385, 78.4867)]\n",
      "[(17.385, 78.4867), (17.0713, 78.2059)]\n",
      "[(17.0713, 78.2059), (16.7488, 78.0035)]\n",
      "Vertex \tDistance from Source\n",
      "0 \t 55.6\n",
      "1 \t 0\n",
      "2 \t 104.2\n"
     ]
    }
   ],
   "source": [
    "folium_map = folium.Map(location=l1,\n",
    "                        zoom_start=13,\n",
    "                        tiles=\"CartoDB dark_matter\")\n",
    "import geopy.distance\n",
    "dist=[0]\n",
    "for a in zip(df['long'],df['lati']):\n",
    " coords_2 = (a[0],a[1])\n",
    "\n",
    " dist.append(geopy.distance.distance(coords_1, coords_2).km )\n",
    " folium.Marker(location=list(a),popup = \"place\"+str(len(dist)-1)).add_to(folium_map)\n",
    "from bs4 import BeautifulSoup # BeautifulSoup is in bs4 package \n",
    "import requests\n",
    "import re\n",
    "distance=[]\n",
    "\n",
    "dict_p={};i=0;\n",
    "for a in df['place']:\n",
    "    dict_p[a]=i\n",
    "    i+=1\n",
    "for a in df['place']:\n",
    "    sub_distance=[]\n",
    "    for b in df['place']:\n",
    "     URL = 'http://google.com/search?q=distance from '+a+' to '+b\n",
    "     content = requests.get(URL)\n",
    "     soup = BeautifulSoup(content.text, 'html.parser')\n",
    "     contentTable  =soup.find('div',{\"class\": \"BNeawe deIvCb AP7Wnd\"})\n",
    "     z=re.findall(\"\\((.+)\\)\",contentTable.get_text())\n",
    "     if(len(z)!=0):\n",
    "      k=z[0].split()[0]\n",
    "     else:\n",
    "      k=0\n",
    "     sub_distance.append(float(k))\n",
    "    distance.append(sub_distance)\n",
    "source=input(\"enter the source or starting location:-\")\n",
    "\n",
    "a=dict_p[source]\n",
    "\n",
    "k=df.iloc[a,1:3]\n",
    "coords_1=(k[\"long\"],k[\"lati\"])\n",
    "print(coords_1)\n",
    "import sys\n",
    "class Graph(): \n",
    "    global coords_1\n",
    "    print(coords_1)\n",
    "    def __init__(self, vertices): \n",
    "        \n",
    "        self.V = vertices \n",
    "        print(self.V)\n",
    "        self.graph = [[0 for column in range(vertices)]  \n",
    "                    for row in range(vertices)] \n",
    "    def printSolution(self, dist): \n",
    "        print(\"Vertex \\tDistance from Source\")\n",
    "        for node in range(self.V): \n",
    "            print(node, \"\\t\", dist[node] )   \n",
    "    def minDistance(self, dist, sptSet): \n",
    "        min = 999999\n",
    "        for v in range(self.V): \n",
    "            if dist[v] < min and sptSet[v] == False: \n",
    "                min = dist[v] \n",
    "                min_index = v \n",
    "        return min_index \n",
    "    def dijkstra(self, src): \n",
    "        global coords_1\n",
    "        dist = [999999] * self.V \n",
    "        dist[src] = 0\n",
    "        sptSet = [False] * self.V   \n",
    "        for cout in range(self.V): \n",
    "            u = self.minDistance(dist, sptSet) \n",
    "            sptSet[u] = True\n",
    "            k=df.iloc[u,1:3]\n",
    "            coords_2=(k[\"long\"],k[\"lati\"])\n",
    "            folium.PolyLine(locations = [coords_1, coords_2],line_opacity = 0.5).add_to(folium_map)  \n",
    "            print([coords_1, coords_2])\n",
    "            coords_1=coords_2\n",
    "            for v in range(self.V): \n",
    "                if self.graph[u][v] > 0 and sptSet[v] == False and dist[v] > dist[u] + self.graph[u][v]: \n",
    "                        dist[v] = dist[u] + self.graph[u][v] \n",
    "  \n",
    "        self.printSolution(dist) \n",
    "  \n",
    "# Driver program \n",
    "g = Graph(len(data)) \n",
    "g.graph = distance \n",
    "\n",
    "g.dijkstra(a); \n",
    "folium_map.save(\"index.html\")"
   ]
  },
  {
   "cell_type": "code",
   "execution_count": 21,
   "metadata": {},
   "outputs": [
    {
     "name": "stdout",
     "output_type": "stream",
     "text": [
      "C:\\Users\\Anirudh\\Documents\\GitHub\\route-directing\\route-directing\\index.html\n"
     ]
    },
    {
     "data": {
      "text/plain": [
       "True"
      ]
     },
     "execution_count": 21,
     "metadata": {},
     "output_type": "execute_result"
    }
   ],
   "source": [
    "import webbrowser\n",
    "import os\n",
    "file=os.path.abspath(\"index.html\")\n",
    "print(file)\n",
    "url = \"file://\"+file\n",
    "webbrowser.register('chrome',None,webbrowser.BackgroundBrowser(\"C://Program Files (x86)//Google//Chrome//Application//chrome.exe\"))\n",
    "webbrowser.get('chrome').open(url)"
   ]
  },
  {
   "cell_type": "code",
   "execution_count": null,
   "metadata": {},
   "outputs": [],
   "source": []
  }
 ],
 "metadata": {
  "kernelspec": {
   "display_name": "Python 3",
   "language": "python",
   "name": "python3"
  },
  "language_info": {
   "codemirror_mode": {
    "name": "ipython",
    "version": 3
   },
   "file_extension": ".py",
   "mimetype": "text/x-python",
   "name": "python",
   "nbconvert_exporter": "python",
   "pygments_lexer": "ipython3",
   "version": "3.6.5"
  }
 },
 "nbformat": 4,
 "nbformat_minor": 2
}
